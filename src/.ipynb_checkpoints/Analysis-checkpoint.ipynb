{
 "cells": [
  {
   "cell_type": "markdown",
   "id": "ada4f7e3",
   "metadata": {},
   "source": [
    "## 💪 Competition challenge\n",
    "\n",
    "Create a report that covers the following:  \n",
    "  1. Which departments are the most/least active?\n",
    "  2. Which employee has the most connections? \n",
    "  3. Identify the most influential departments and employees.\n",
    "  4. Using the network analysis, in which departments would you recommend the HR team focus to boost collaboration?"
   ]
  },
  {
   "cell_type": "markdown",
   "id": "43a70749-758c-466a-b4cd-2e8b849704fd",
   "metadata": {},
   "source": [
    "#### Messages has information on the sender, receiver, and time.\n",
    "- \"sender\" - represents the employee id of the employee sending the message.\n",
    "- \"receiver\" - represents the employee id of the employee receiving the message.\n",
    "- \"timestamp\" - the date of the message.\n",
    "- \"message_length\" - the length in words of the message.\n",
    "\n",
    "#### Employees has information on each employee;\n",
    "- \"id\" - represents the employee id of the employee.\n",
    "- \"department\" - is the department within the company. \n",
    "- \"location\" - is the country where the employee lives.\n",
    "- \"age\" - is the age of the employee."
   ]
  },
  {
   "cell_type": "code",
   "execution_count": 9,
   "id": "2ea9c3a1-1b11-4ac1-9ada-c34ad40fbdce",
   "metadata": {},
   "outputs": [
    {
     "data": {
      "text/html": [
       "<div>\n",
       "<style scoped>\n",
       "    .dataframe tbody tr th:only-of-type {\n",
       "        vertical-align: middle;\n",
       "    }\n",
       "\n",
       "    .dataframe tbody tr th {\n",
       "        vertical-align: top;\n",
       "    }\n",
       "\n",
       "    .dataframe thead th {\n",
       "        text-align: right;\n",
       "    }\n",
       "</style>\n",
       "<table border=\"1\" class=\"dataframe\">\n",
       "  <thead>\n",
       "    <tr style=\"text-align: right;\">\n",
       "      <th></th>\n",
       "      <th>id</th>\n",
       "      <th>department</th>\n",
       "      <th>location</th>\n",
       "      <th>age</th>\n",
       "    </tr>\n",
       "  </thead>\n",
       "  <tbody>\n",
       "    <tr>\n",
       "      <th>0</th>\n",
       "      <td>3</td>\n",
       "      <td>Operations</td>\n",
       "      <td>US</td>\n",
       "      <td>33</td>\n",
       "    </tr>\n",
       "    <tr>\n",
       "      <th>1</th>\n",
       "      <td>6</td>\n",
       "      <td>Sales</td>\n",
       "      <td>UK</td>\n",
       "      <td>50</td>\n",
       "    </tr>\n",
       "    <tr>\n",
       "      <th>2</th>\n",
       "      <td>8</td>\n",
       "      <td>IT</td>\n",
       "      <td>Brasil</td>\n",
       "      <td>54</td>\n",
       "    </tr>\n",
       "  </tbody>\n",
       "</table>\n",
       "</div>"
      ],
      "text/plain": [
       "   id  department location  age\n",
       "0   3  Operations       US   33\n",
       "1   6       Sales       UK   50\n",
       "2   8          IT   Brasil   54"
      ]
     },
     "execution_count": 9,
     "metadata": {},
     "output_type": "execute_result"
    }
   ],
   "source": [
    "import pandas as pd\n",
    "\n",
    "df_emp = pd.read_csv('../data/employees.csv')\n",
    "df_emp.head(3)"
   ]
  },
  {
   "cell_type": "code",
   "execution_count": 11,
   "id": "648a287f",
   "metadata": {},
   "outputs": [
    {
     "data": {
      "text/html": [
       "<div>\n",
       "<style scoped>\n",
       "    .dataframe tbody tr th:only-of-type {\n",
       "        vertical-align: middle;\n",
       "    }\n",
       "\n",
       "    .dataframe tbody tr th {\n",
       "        vertical-align: top;\n",
       "    }\n",
       "\n",
       "    .dataframe thead th {\n",
       "        text-align: right;\n",
       "    }\n",
       "</style>\n",
       "<table border=\"1\" class=\"dataframe\">\n",
       "  <thead>\n",
       "    <tr style=\"text-align: right;\">\n",
       "      <th></th>\n",
       "      <th>sender</th>\n",
       "      <th>receiver</th>\n",
       "      <th>timestamp</th>\n",
       "      <th>message_length</th>\n",
       "    </tr>\n",
       "  </thead>\n",
       "  <tbody>\n",
       "    <tr>\n",
       "      <th>0</th>\n",
       "      <td>79</td>\n",
       "      <td>48</td>\n",
       "      <td>2021-06-02 05:41:34</td>\n",
       "      <td>88</td>\n",
       "    </tr>\n",
       "    <tr>\n",
       "      <th>1</th>\n",
       "      <td>79</td>\n",
       "      <td>63</td>\n",
       "      <td>2021-06-02 05:42:15</td>\n",
       "      <td>72</td>\n",
       "    </tr>\n",
       "    <tr>\n",
       "      <th>2</th>\n",
       "      <td>79</td>\n",
       "      <td>58</td>\n",
       "      <td>2021-06-02 05:44:24</td>\n",
       "      <td>86</td>\n",
       "    </tr>\n",
       "  </tbody>\n",
       "</table>\n",
       "</div>"
      ],
      "text/plain": [
       "   sender  receiver           timestamp  message_length\n",
       "0      79        48 2021-06-02 05:41:34              88\n",
       "1      79        63 2021-06-02 05:42:15              72\n",
       "2      79        58 2021-06-02 05:44:24              86"
      ]
     },
     "execution_count": 11,
     "metadata": {},
     "output_type": "execute_result"
    }
   ],
   "source": [
    "df_msg = pd.read_csv('../data/messages.csv', parse_dates = ['timestamp'])\n",
    "df_msg.head(3)"
   ]
  },
  {
   "cell_type": "markdown",
   "id": "ea76e8a6",
   "metadata": {},
   "source": [
    "## 1. Which departments are the most/least active?"
   ]
  },
  {
   "cell_type": "code",
   "execution_count": null,
   "id": "1c581a02",
   "metadata": {},
   "outputs": [],
   "source": []
  },
  {
   "cell_type": "code",
   "execution_count": null,
   "id": "7c2906f2",
   "metadata": {},
   "outputs": [],
   "source": []
  }
 ],
 "metadata": {
  "kernelspec": {
   "display_name": "Python 3 (ipykernel)",
   "language": "python",
   "name": "python3"
  },
  "language_info": {
   "codemirror_mode": {
    "name": "ipython",
    "version": 3
   },
   "file_extension": ".py",
   "mimetype": "text/x-python",
   "name": "python",
   "nbconvert_exporter": "python",
   "pygments_lexer": "ipython3",
   "version": "3.9.12"
  }
 },
 "nbformat": 4,
 "nbformat_minor": 5
}
