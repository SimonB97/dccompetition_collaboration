{
 "cells": [
  {
   "cell_type": "markdown",
   "id": "7f2e7a25",
   "metadata": {},
   "source": [
    "# First try on solving a DataCamp competition\n",
    "\n",
    "This is my first try on solving a competitive challenge made by DataCamp."
   ]
  },
  {
   "cell_type": "markdown",
   "id": "b210fbda",
   "metadata": {},
   "source": [
    "## 💪 Competition challenge\n",
    "\n",
    "Create a report that covers the following:  \n",
    "  1. Which departments are the most/least active?\n",
    "  2. Which employee has the most connections? \n",
    "  3. Identify the most influential departments and employees.\n",
    "  4. Using the network analysis, in which departments would you recommend the HR team focus to boost collaboration?"
   ]
  },
  {
   "cell_type": "markdown",
   "id": "43a70749-758c-466a-b4cd-2e8b849704fd",
   "metadata": {},
   "source": [
    "#### Messages has information on the sender, receiver, and time.\n",
    "- \"sender\" - represents the employee id of the employee sending the message.\n",
    "- \"receiver\" - represents the employee id of the employee receiving the message.\n",
    "- \"timestamp\" - the date of the message.\n",
    "- \"message_length\" - the length in words of the message.\n",
    "\n",
    "#### Employees has information on each employee;\n",
    "- \"id\" - represents the employee id of the employee.\n",
    "- \"department\" - is the department within the company. \n",
    "- \"location\" - is the country where the employee lives.\n",
    "- \"age\" - is the age of the employee."
   ]
  },
  {
   "cell_type": "markdown",
   "id": "9f103c3a",
   "metadata": {},
   "source": [
    "# I. Imports of data and modules"
   ]
  },
  {
   "cell_type": "code",
   "execution_count": 1,
   "id": "a965d414",
   "metadata": {},
   "outputs": [],
   "source": [
    "# imports\n",
    "import numpy as np\n",
    "import pandas as pd\n",
    "import matplotlib.pyplot as plt\n",
    "from collections import Counter"
   ]
  },
  {
   "cell_type": "code",
   "execution_count": 2,
   "id": "257f9906",
   "metadata": {
    "scrolled": true
   },
   "outputs": [
    {
     "data": {
      "text/html": [
       "<div>\n",
       "<style scoped>\n",
       "    .dataframe tbody tr th:only-of-type {\n",
       "        vertical-align: middle;\n",
       "    }\n",
       "\n",
       "    .dataframe tbody tr th {\n",
       "        vertical-align: top;\n",
       "    }\n",
       "\n",
       "    .dataframe thead th {\n",
       "        text-align: right;\n",
       "    }\n",
       "</style>\n",
       "<table border=\"1\" class=\"dataframe\">\n",
       "  <thead>\n",
       "    <tr style=\"text-align: right;\">\n",
       "      <th></th>\n",
       "      <th>sender</th>\n",
       "      <th>receiver</th>\n",
       "      <th>timestamp</th>\n",
       "      <th>message_length</th>\n",
       "    </tr>\n",
       "  </thead>\n",
       "  <tbody>\n",
       "    <tr>\n",
       "      <th>0</th>\n",
       "      <td>79</td>\n",
       "      <td>48</td>\n",
       "      <td>2021-06-02 05:41:34</td>\n",
       "      <td>88</td>\n",
       "    </tr>\n",
       "    <tr>\n",
       "      <th>1</th>\n",
       "      <td>79</td>\n",
       "      <td>63</td>\n",
       "      <td>2021-06-02 05:42:15</td>\n",
       "      <td>72</td>\n",
       "    </tr>\n",
       "    <tr>\n",
       "      <th>2</th>\n",
       "      <td>79</td>\n",
       "      <td>58</td>\n",
       "      <td>2021-06-02 05:44:24</td>\n",
       "      <td>86</td>\n",
       "    </tr>\n",
       "  </tbody>\n",
       "</table>\n",
       "</div>"
      ],
      "text/plain": [
       "   sender  receiver           timestamp  message_length\n",
       "0      79        48 2021-06-02 05:41:34              88\n",
       "1      79        63 2021-06-02 05:42:15              72\n",
       "2      79        58 2021-06-02 05:44:24              86"
      ]
     },
     "execution_count": 2,
     "metadata": {},
     "output_type": "execute_result"
    }
   ],
   "source": [
    "# read messages.csv\n",
    "df_msg = pd.read_csv('../data/messages.csv', parse_dates = ['timestamp'])\n",
    "df_msg.head(3)"
   ]
  },
  {
   "cell_type": "code",
   "execution_count": 3,
   "id": "f134e444",
   "metadata": {},
   "outputs": [
    {
     "data": {
      "text/plain": [
       "(3512, 4)"
      ]
     },
     "execution_count": 3,
     "metadata": {},
     "output_type": "execute_result"
    }
   ],
   "source": [
    "df_msg.shape"
   ]
  },
  {
   "cell_type": "code",
   "execution_count": 4,
   "id": "2ea9c3a1-1b11-4ac1-9ada-c34ad40fbdce",
   "metadata": {},
   "outputs": [
    {
     "data": {
      "text/html": [
       "<div>\n",
       "<style scoped>\n",
       "    .dataframe tbody tr th:only-of-type {\n",
       "        vertical-align: middle;\n",
       "    }\n",
       "\n",
       "    .dataframe tbody tr th {\n",
       "        vertical-align: top;\n",
       "    }\n",
       "\n",
       "    .dataframe thead th {\n",
       "        text-align: right;\n",
       "    }\n",
       "</style>\n",
       "<table border=\"1\" class=\"dataframe\">\n",
       "  <thead>\n",
       "    <tr style=\"text-align: right;\">\n",
       "      <th></th>\n",
       "      <th>id</th>\n",
       "      <th>department</th>\n",
       "      <th>location</th>\n",
       "      <th>age</th>\n",
       "    </tr>\n",
       "  </thead>\n",
       "  <tbody>\n",
       "    <tr>\n",
       "      <th>0</th>\n",
       "      <td>3</td>\n",
       "      <td>Operations</td>\n",
       "      <td>US</td>\n",
       "      <td>33</td>\n",
       "    </tr>\n",
       "    <tr>\n",
       "      <th>1</th>\n",
       "      <td>6</td>\n",
       "      <td>Sales</td>\n",
       "      <td>UK</td>\n",
       "      <td>50</td>\n",
       "    </tr>\n",
       "    <tr>\n",
       "      <th>2</th>\n",
       "      <td>8</td>\n",
       "      <td>IT</td>\n",
       "      <td>Brasil</td>\n",
       "      <td>54</td>\n",
       "    </tr>\n",
       "  </tbody>\n",
       "</table>\n",
       "</div>"
      ],
      "text/plain": [
       "   id  department location  age\n",
       "0   3  Operations       US   33\n",
       "1   6       Sales       UK   50\n",
       "2   8          IT   Brasil   54"
      ]
     },
     "execution_count": 4,
     "metadata": {},
     "output_type": "execute_result"
    }
   ],
   "source": [
    "# read employees.csv\n",
    "df_emp = pd.read_csv('../data/employees.csv')\n",
    "df_emp.head(3)"
   ]
  },
  {
   "cell_type": "code",
   "execution_count": 5,
   "id": "41f7c078",
   "metadata": {},
   "outputs": [
    {
     "data": {
      "text/plain": [
       "(664, 4)"
      ]
     },
     "execution_count": 5,
     "metadata": {},
     "output_type": "execute_result"
    }
   ],
   "source": [
    "df_emp.shape"
   ]
  },
  {
   "cell_type": "code",
   "execution_count": 6,
   "id": "bd93ec75",
   "metadata": {},
   "outputs": [
    {
     "data": {
      "text/plain": [
       "sender            0\n",
       "receiver          0\n",
       "timestamp         0\n",
       "message_length    0\n",
       "dtype: int64"
      ]
     },
     "execution_count": 6,
     "metadata": {},
     "output_type": "execute_result"
    }
   ],
   "source": [
    "# checking for missing values\n",
    "df_msg.isnull().sum()"
   ]
  },
  {
   "cell_type": "code",
   "execution_count": 7,
   "id": "e803e1a6",
   "metadata": {},
   "outputs": [
    {
     "data": {
      "text/plain": [
       "id            0\n",
       "department    0\n",
       "location      0\n",
       "age           0\n",
       "dtype: int64"
      ]
     },
     "execution_count": 7,
     "metadata": {},
     "output_type": "execute_result"
    }
   ],
   "source": [
    "df_emp.isnull().sum()"
   ]
  },
  {
   "cell_type": "markdown",
   "id": "2fcaf429",
   "metadata": {},
   "source": [
    ">  No missing values in both datasets."
   ]
  },
  {
   "cell_type": "markdown",
   "id": "866579f5",
   "metadata": {},
   "source": [
    "# II. Answering the Questions"
   ]
  },
  {
   "cell_type": "markdown",
   "id": "4ee20834",
   "metadata": {},
   "source": [
    "### 1. Which departments are the most/least active?"
   ]
  },
  {
   "cell_type": "markdown",
   "id": "1d4bbe42",
   "metadata": {},
   "source": [
    "1) Getting number of employees per department:"
   ]
  },
  {
   "cell_type": "code",
   "execution_count": 8,
   "id": "3f610b15",
   "metadata": {},
   "outputs": [
    {
     "data": {
      "text/plain": [
       "0       Operations\n",
       "1            Sales\n",
       "2               IT\n",
       "3            Admin\n",
       "4       Operations\n",
       "          ...     \n",
       "659          Admin\n",
       "660          Admin\n",
       "661    Engineering\n",
       "662          Sales\n",
       "663          Admin\n",
       "Name: department, Length: 664, dtype: object"
      ]
     },
     "execution_count": 8,
     "metadata": {},
     "output_type": "execute_result"
    }
   ],
   "source": [
    "dpt = df_emp['department']\n",
    "dpt"
   ]
  },
  {
   "cell_type": "code",
   "execution_count": 9,
   "id": "821f8ff2",
   "metadata": {},
   "outputs": [
    {
     "data": {
      "image/png": "[encoded data removed]",
      "text/plain": [
       "<Figure size 720x360 with 1 Axes>"
      ]
     },
     "metadata": {
      "needs_background": "light"
     },
     "output_type": "display_data"
    }
   ],
   "source": [
    "x = Counter(dpt).keys()\n",
    "y = Counter(dpt).values()\n",
    "plt.figure(figsize=(10,5))\n",
    "bars = plt.bar(x, y,)\n",
    "plt.xlabel('Department')\n",
    "plt.ylabel('Number of employees')\n",
    "plt.title('Number of employees per department')\n",
    "plt.bar_label(bars)\n",
    "plt.show()"
   ]
  },
  {
   "cell_type": "markdown",
   "id": "98340d9c",
   "metadata": {},
   "source": [
    "2) Getting number of messages per employee:"
   ]
  },
  {
   "cell_type": "code",
   "execution_count": 10,
   "id": "c94a8f7b",
   "metadata": {},
   "outputs": [],
   "source": [
    "sent = df_msg['sender']\n",
    "msgs_per_emp = Counter(sent)\n",
    "#msgs_per_emp"
   ]
  },
  {
   "cell_type": "markdown",
   "id": "65bcd2c3",
   "metadata": {},
   "source": [
    "3) Getting total number of messages per department:"
   ]
  },
  {
   "cell_type": "code",
   "execution_count": 11,
   "id": "f6518d53",
   "metadata": {},
   "outputs": [
    {
     "data": {
      "text/html": [
       "<div>\n",
       "<style scoped>\n",
       "    .dataframe tbody tr th:only-of-type {\n",
       "        vertical-align: middle;\n",
       "    }\n",
       "\n",
       "    .dataframe tbody tr th {\n",
       "        vertical-align: top;\n",
       "    }\n",
       "\n",
       "    .dataframe thead th {\n",
       "        text-align: right;\n",
       "    }\n",
       "</style>\n",
       "<table border=\"1\" class=\"dataframe\">\n",
       "  <thead>\n",
       "    <tr style=\"text-align: right;\">\n",
       "      <th></th>\n",
       "      <th>id</th>\n",
       "      <th>receiver</th>\n",
       "      <th>timestamp</th>\n",
       "      <th>message_length</th>\n",
       "    </tr>\n",
       "  </thead>\n",
       "  <tbody>\n",
       "    <tr>\n",
       "      <th>0</th>\n",
       "      <td>79</td>\n",
       "      <td>48</td>\n",
       "      <td>2021-06-02 05:41:34</td>\n",
       "      <td>88</td>\n",
       "    </tr>\n",
       "    <tr>\n",
       "      <th>1</th>\n",
       "      <td>79</td>\n",
       "      <td>63</td>\n",
       "      <td>2021-06-02 05:42:15</td>\n",
       "      <td>72</td>\n",
       "    </tr>\n",
       "    <tr>\n",
       "      <th>2</th>\n",
       "      <td>79</td>\n",
       "      <td>58</td>\n",
       "      <td>2021-06-02 05:44:24</td>\n",
       "      <td>86</td>\n",
       "    </tr>\n",
       "  </tbody>\n",
       "</table>\n",
       "</div>"
      ],
      "text/plain": [
       "   id  receiver           timestamp  message_length\n",
       "0  79        48 2021-06-02 05:41:34              88\n",
       "1  79        63 2021-06-02 05:42:15              72\n",
       "2  79        58 2021-06-02 05:44:24              86"
      ]
     },
     "execution_count": 11,
     "metadata": {},
     "output_type": "execute_result"
    }
   ],
   "source": [
    "df_msg_sid = df_msg.rename(columns={'sender':'id'})\n",
    "df_msg_sid.head(3)"
   ]
  },
  {
   "cell_type": "code",
   "execution_count": 12,
   "id": "91b84546",
   "metadata": {},
   "outputs": [
    {
     "data": {
      "text/html": [
       "<div>\n",
       "<style scoped>\n",
       "    .dataframe tbody tr th:only-of-type {\n",
       "        vertical-align: middle;\n",
       "    }\n",
       "\n",
       "    .dataframe tbody tr th {\n",
       "        vertical-align: top;\n",
       "    }\n",
       "\n",
       "    .dataframe thead th {\n",
       "        text-align: right;\n",
       "    }\n",
       "</style>\n",
       "<table border=\"1\" class=\"dataframe\">\n",
       "  <thead>\n",
       "    <tr style=\"text-align: right;\">\n",
       "      <th></th>\n",
       "      <th>id</th>\n",
       "      <th>receiver</th>\n",
       "      <th>timestamp</th>\n",
       "      <th>message_length</th>\n",
       "      <th>department</th>\n",
       "      <th>location</th>\n",
       "      <th>age</th>\n",
       "    </tr>\n",
       "  </thead>\n",
       "  <tbody>\n",
       "    <tr>\n",
       "      <th>0</th>\n",
       "      <td>79</td>\n",
       "      <td>48</td>\n",
       "      <td>2021-06-02 05:41:34</td>\n",
       "      <td>88</td>\n",
       "      <td>Sales</td>\n",
       "      <td>France</td>\n",
       "      <td>33</td>\n",
       "    </tr>\n",
       "    <tr>\n",
       "      <th>1</th>\n",
       "      <td>79</td>\n",
       "      <td>63</td>\n",
       "      <td>2021-06-02 05:42:15</td>\n",
       "      <td>72</td>\n",
       "      <td>Sales</td>\n",
       "      <td>France</td>\n",
       "      <td>33</td>\n",
       "    </tr>\n",
       "    <tr>\n",
       "      <th>2</th>\n",
       "      <td>79</td>\n",
       "      <td>58</td>\n",
       "      <td>2021-06-02 05:44:24</td>\n",
       "      <td>86</td>\n",
       "      <td>Sales</td>\n",
       "      <td>France</td>\n",
       "      <td>33</td>\n",
       "    </tr>\n",
       "    <tr>\n",
       "      <th>3</th>\n",
       "      <td>79</td>\n",
       "      <td>70</td>\n",
       "      <td>2021-06-02 05:49:07</td>\n",
       "      <td>26</td>\n",
       "      <td>Sales</td>\n",
       "      <td>France</td>\n",
       "      <td>33</td>\n",
       "    </tr>\n",
       "    <tr>\n",
       "      <th>4</th>\n",
       "      <td>79</td>\n",
       "      <td>109</td>\n",
       "      <td>2021-06-02 19:51:47</td>\n",
       "      <td>73</td>\n",
       "      <td>Sales</td>\n",
       "      <td>France</td>\n",
       "      <td>33</td>\n",
       "    </tr>\n",
       "    <tr>\n",
       "      <th>...</th>\n",
       "      <td>...</td>\n",
       "      <td>...</td>\n",
       "      <td>...</td>\n",
       "      <td>...</td>\n",
       "      <td>...</td>\n",
       "      <td>...</td>\n",
       "      <td>...</td>\n",
       "    </tr>\n",
       "    <tr>\n",
       "      <th>3507</th>\n",
       "      <td>1881</td>\n",
       "      <td>1052</td>\n",
       "      <td>2021-11-18 04:57:00</td>\n",
       "      <td>40</td>\n",
       "      <td>Sales</td>\n",
       "      <td>Germany</td>\n",
       "      <td>57</td>\n",
       "    </tr>\n",
       "    <tr>\n",
       "      <th>3508</th>\n",
       "      <td>1879</td>\n",
       "      <td>1520</td>\n",
       "      <td>2021-11-29 07:27:52</td>\n",
       "      <td>22</td>\n",
       "      <td>Engineering</td>\n",
       "      <td>US</td>\n",
       "      <td>40</td>\n",
       "    </tr>\n",
       "    <tr>\n",
       "      <th>3509</th>\n",
       "      <td>1879</td>\n",
       "      <td>1543</td>\n",
       "      <td>2021-11-29 07:37:49</td>\n",
       "      <td>17</td>\n",
       "      <td>Engineering</td>\n",
       "      <td>US</td>\n",
       "      <td>40</td>\n",
       "    </tr>\n",
       "    <tr>\n",
       "      <th>3510</th>\n",
       "      <td>1879</td>\n",
       "      <td>1520</td>\n",
       "      <td>2021-11-29 07:27:52</td>\n",
       "      <td>58</td>\n",
       "      <td>Engineering</td>\n",
       "      <td>US</td>\n",
       "      <td>40</td>\n",
       "    </tr>\n",
       "    <tr>\n",
       "      <th>3511</th>\n",
       "      <td>1879</td>\n",
       "      <td>1543</td>\n",
       "      <td>2021-11-29 07:37:49</td>\n",
       "      <td>56</td>\n",
       "      <td>Engineering</td>\n",
       "      <td>US</td>\n",
       "      <td>40</td>\n",
       "    </tr>\n",
       "  </tbody>\n",
       "</table>\n",
       "<p>3512 rows × 7 columns</p>\n",
       "</div>"
      ],
      "text/plain": [
       "        id  receiver           timestamp  message_length   department  \\\n",
       "0       79        48 2021-06-02 05:41:34              88        Sales   \n",
       "1       79        63 2021-06-02 05:42:15              72        Sales   \n",
       "2       79        58 2021-06-02 05:44:24              86        Sales   \n",
       "3       79        70 2021-06-02 05:49:07              26        Sales   \n",
       "4       79       109 2021-06-02 19:51:47              73        Sales   \n",
       "...    ...       ...                 ...             ...          ...   \n",
       "3507  1881      1052 2021-11-18 04:57:00              40        Sales   \n",
       "3508  1879      1520 2021-11-29 07:27:52              22  Engineering   \n",
       "3509  1879      1543 2021-11-29 07:37:49              17  Engineering   \n",
       "3510  1879      1520 2021-11-29 07:27:52              58  Engineering   \n",
       "3511  1879      1543 2021-11-29 07:37:49              56  Engineering   \n",
       "\n",
       "     location  age  \n",
       "0      France   33  \n",
       "1      France   33  \n",
       "2      France   33  \n",
       "3      France   33  \n",
       "4      France   33  \n",
       "...       ...  ...  \n",
       "3507  Germany   57  \n",
       "3508       US   40  \n",
       "3509       US   40  \n",
       "3510       US   40  \n",
       "3511       US   40  \n",
       "\n",
       "[3512 rows x 7 columns]"
      ]
     },
     "execution_count": 12,
     "metadata": {},
     "output_type": "execute_result"
    }
   ],
   "source": [
    "# concatenating both datatframes\n",
    "#df_all = pd.concat([df_msg_sid, df_emp], axis=1, join=\"outer\")\n",
    "#df_all.head(3)\n",
    "\n",
    "df_all = df_msg_sid.merge(df_emp, on='id', how='inner')\n",
    "df_all"
   ]
  },
  {
   "cell_type": "code",
   "execution_count": 13,
   "id": "0082de1c",
   "metadata": {},
   "outputs": [
    {
     "data": {
      "image/png": "[encoded data removed]",
      "text/plain": [
       "<Figure size 720x360 with 1 Axes>"
      ]
     },
     "metadata": {
      "needs_background": "light"
     },
     "output_type": "display_data"
    }
   ],
   "source": [
    "dpt_all = df_all['department']\n",
    "x2 = Counter(dpt_all).keys()\n",
    "y2 = Counter(dpt_all).values()\n",
    "plt.figure(figsize=(10,5))\n",
    "bars2 = plt.bar(x2, y2,)\n",
    "plt.xlabel('Department')\n",
    "plt.ylabel('Number of messages')\n",
    "plt.title('Number of messages per departement')\n",
    "plt.bar_label(bars2)\n",
    "plt.show()"
   ]
  },
  {
   "cell_type": "markdown",
   "id": "f138f9b6",
   "metadata": {},
   "source": [
    ">Most active departments (: Sales (1551)"
   ]
  },
  {
   "cell_type": "markdown",
   "id": "d74c5e0b",
   "metadata": {},
   "source": [
    "### 2. Which employee has the most connections?\n",
    "\n",
    "Idea: barchart representing number of messages received plus number of messages sent stacked onto another and limited to the 10 most collaborative employees."
   ]
  },
  {
   "cell_type": "markdown",
   "id": "b41e329f",
   "metadata": {},
   "source": [
    "1) Getting number of unique receivers per sender:"
   ]
  },
  {
   "cell_type": "code",
   "execution_count": null,
   "id": "2a9758c5",
   "metadata": {},
   "outputs": [],
   "source": []
  },
  {
   "cell_type": "code",
   "execution_count": null,
   "id": "3843facf",
   "metadata": {},
   "outputs": [],
   "source": []
  },
  {
   "cell_type": "code",
   "execution_count": null,
   "id": "991dcef0",
   "metadata": {},
   "outputs": [],
   "source": []
  },
  {
   "cell_type": "code",
   "execution_count": 29,
   "id": "e1e6e5ff",
   "metadata": {},
   "outputs": [
    {
     "data": {
      "text/plain": [
       "id\n",
       "79      11\n",
       "128     71\n",
       "144     75\n",
       "162      5\n",
       "173      8\n",
       "        ..\n",
       "1800     2\n",
       "1802     1\n",
       "1807     4\n",
       "1879     2\n",
       "1881     5\n",
       "Name: receiver, Length: 85, dtype: int64"
      ]
     },
     "execution_count": 29,
     "metadata": {},
     "output_type": "execute_result"
    }
   ],
   "source": [
    "# number of unique reveivers per sender:\n",
    "num_rec_un = df_all.groupby(['id'])['receiver'].nunique()\n",
    "pd.Series(num_rec_un)"
   ]
  },
  {
   "cell_type": "code",
   "execution_count": 22,
   "id": "a4b68c91",
   "metadata": {},
   "outputs": [
    {
     "data": {
      "text/plain": [
       "dict_keys([11, 71, 75, 5, 8, 1, 12, 4, 33, 51, 2, 39, 6, 9, 58, 31, 13, 30, 50, 14, 64, 77, 68, 32, 18, 21, 3, 17, 24, 15, 7, 19, 20])"
      ]
     },
     "execution_count": 22,
     "metadata": {},
     "output_type": "execute_result"
    }
   ],
   "source": [
    "n_receiver = Counter(num_rec_un).keys()\n",
    "n_receiver"
   ]
  },
  {
   "cell_type": "code",
   "execution_count": 24,
   "id": "cb564c5a",
   "metadata": {},
   "outputs": [
    {
     "data": {
      "image/png": "[encoded data removed]",
      "text/plain": [
       "<Figure size 720x360 with 1 Axes>"
      ]
     },
     "metadata": {
      "needs_background": "light"
     },
     "output_type": "display_data"
    }
   ],
   "source": [
    "\n",
    "n_receiver = [str(i) for i in list(Counter(num_rec_un).keys())]\n",
    "\n",
    "emp_ids = list(Counter(num_rec_un).values())\n",
    "plt.figure(figsize=(10,5))\n",
    "bars2 = plt.bar(n_receiver, emp_ids, tick_label=n_receiver)\n",
    "plt.xlabel('EmployeeID')\n",
    "plt.ylabel('Number of unique receivers')\n",
    "plt.title('Number of unique receivers per employee')\n",
    "plt.bar_label(bars2)\n",
    "plt.show()"
   ]
  },
  {
   "cell_type": "code",
   "execution_count": null,
   "id": "0f9e2efa",
   "metadata": {},
   "outputs": [],
   "source": []
  },
  {
   "cell_type": "code",
   "execution_count": null,
   "id": "34de74ea",
   "metadata": {},
   "outputs": [],
   "source": []
  }
 ],
 "metadata": {
  "kernelspec": {
   "display_name": "Python 3 (ipykernel)",
   "language": "python",
   "name": "python3"
  },
  "language_info": {
   "codemirror_mode": {
    "name": "ipython",
    "version": 3
   },
   "file_extension": ".py",
   "mimetype": "text/x-python",
   "name": "python",
   "nbconvert_exporter": "python",
   "pygments_lexer": "ipython3",
   "version": "3.9.12"
  }
 },
 "nbformat": 4,
 "nbformat_minor": 5
}
